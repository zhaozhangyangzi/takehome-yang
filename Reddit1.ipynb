{
 "cells": [
  {
   "cell_type": "markdown",
   "id": "44560b29",
   "metadata": {},
   "source": [
    "## Exercise 3: Reddit Data"
   ]
  },
  {
   "cell_type": "markdown",
   "id": "8147f905",
   "metadata": {},
   "source": [
    "The task comes with two parts:\n",
    "\n",
    "- Determine the attributes of a successful post on r/askscience\n",
    "- Build a model that can predict the score of a post on r/askscience given at least the title and body of the post (There is no need to limit it to just the title and body, but you must explain why you chose the features you did)."
   ]
  },
  {
   "cell_type": "markdown",
   "id": "a373b0d8",
   "metadata": {},
   "source": [
    "### 1. Data exploration"
   ]
  },
  {
   "cell_type": "code",
   "execution_count": 1,
   "id": "f607c76a",
   "metadata": {},
   "outputs": [],
   "source": [
    "import pandas as pd\n",
    "import numpy as np\n",
    "import matplotlib.pyplot as plt\n",
    "import seaborn as sns\n",
    "import scipy.stats as stats"
   ]
  },
  {
   "cell_type": "code",
   "execution_count": 2,
   "id": "d9731fa0",
   "metadata": {},
   "outputs": [
    {
     "data": {
      "text/html": [
       "<div>\n",
       "<style scoped>\n",
       "    .dataframe tbody tr th:only-of-type {\n",
       "        vertical-align: middle;\n",
       "    }\n",
       "\n",
       "    .dataframe tbody tr th {\n",
       "        vertical-align: top;\n",
       "    }\n",
       "\n",
       "    .dataframe thead th {\n",
       "        text-align: right;\n",
       "    }\n",
       "</style>\n",
       "<table border=\"1\" class=\"dataframe\">\n",
       "  <thead>\n",
       "    <tr style=\"text-align: right;\">\n",
       "      <th></th>\n",
       "      <th>title</th>\n",
       "      <th>body</th>\n",
       "      <th>tag</th>\n",
       "      <th>datetime</th>\n",
       "      <th>author</th>\n",
       "      <th>score</th>\n",
       "      <th>upvote_ratio</th>\n",
       "      <th>url</th>\n",
       "    </tr>\n",
       "  </thead>\n",
       "  <tbody>\n",
       "    <tr>\n",
       "      <th>0</th>\n",
       "      <td>Post viral cough: why does it get worse after ...</td>\n",
       "      <td>Tl;dr: why is your cough during an upper respi...</td>\n",
       "      <td>Human Body</td>\n",
       "      <td>2022-12-09 02:52:07</td>\n",
       "      <td>CarboniferousCreek</td>\n",
       "      <td>1343.0</td>\n",
       "      <td>0.93</td>\n",
       "      <td>https://www.reddit.com/r/askscience/comments/z...</td>\n",
       "    </tr>\n",
       "    <tr>\n",
       "      <th>1</th>\n",
       "      <td>Can an x-ray of an adult show chronic malnouri...</td>\n",
       "      <td>If a person was chronically undernourished thr...</td>\n",
       "      <td>Human Body</td>\n",
       "      <td>2022-12-08 18:28:51</td>\n",
       "      <td>Foxs-In-A-Trenchcoat</td>\n",
       "      <td>426.0</td>\n",
       "      <td>0.91</td>\n",
       "      <td>https://www.reddit.com/r/askscience/comments/z...</td>\n",
       "    </tr>\n",
       "    <tr>\n",
       "      <th>2</th>\n",
       "      <td>[META] Bots and AI tools on r/askscience</td>\n",
       "      <td>\\n\\nOver the past few days we have seen a sur...</td>\n",
       "      <td>META</td>\n",
       "      <td>2022-12-08 09:04:25</td>\n",
       "      <td>AskScienceModerator</td>\n",
       "      <td>2218.0</td>\n",
       "      <td>0.92</td>\n",
       "      <td>https://www.reddit.com/r/askscience/comments/z...</td>\n",
       "    </tr>\n",
       "    <tr>\n",
       "      <th>3</th>\n",
       "      <td>Can you predictably manipulate a magnetic gas?</td>\n",
       "      <td>Does there exist a gas that changes in respons...</td>\n",
       "      <td>Physics</td>\n",
       "      <td>2022-12-08 20:01:53</td>\n",
       "      <td>hufsa7</td>\n",
       "      <td>48.0</td>\n",
       "      <td>0.83</td>\n",
       "      <td>https://www.reddit.com/r/askscience/comments/z...</td>\n",
       "    </tr>\n",
       "    <tr>\n",
       "      <th>4</th>\n",
       "      <td>Are there cells in humans (or other mammals) t...</td>\n",
       "      <td>NaN</td>\n",
       "      <td>Medicine</td>\n",
       "      <td>2022-12-09 01:11:34</td>\n",
       "      <td>Velym</td>\n",
       "      <td>14.0</td>\n",
       "      <td>0.89</td>\n",
       "      <td>https://www.reddit.com/r/askscience/comments/z...</td>\n",
       "    </tr>\n",
       "    <tr>\n",
       "      <th>...</th>\n",
       "      <td>...</td>\n",
       "      <td>...</td>\n",
       "      <td>...</td>\n",
       "      <td>...</td>\n",
       "      <td>...</td>\n",
       "      <td>...</td>\n",
       "      <td>...</td>\n",
       "      <td>...</td>\n",
       "    </tr>\n",
       "    <tr>\n",
       "      <th>795</th>\n",
       "      <td>I heard some electron microscopes use gallium....</td>\n",
       "      <td>NaN</td>\n",
       "      <td>Engineering</td>\n",
       "      <td>2022-01-12 17:14:35</td>\n",
       "      <td>Emma_Dale20</td>\n",
       "      <td>6.0</td>\n",
       "      <td>0.70</td>\n",
       "      <td>https://www.reddit.com/r/askscience/comments/s...</td>\n",
       "    </tr>\n",
       "    <tr>\n",
       "      <th>796</th>\n",
       "      <td>is the spread of COVID typical for a respirato...</td>\n",
       "      <td>i understand that there's no respiratory virus...</td>\n",
       "      <td>COVID-19</td>\n",
       "      <td>2022-01-12 09:39:55</td>\n",
       "      <td>aggasalk</td>\n",
       "      <td>27.0</td>\n",
       "      <td>0.74</td>\n",
       "      <td>https://www.reddit.com/r/askscience/comments/s...</td>\n",
       "    </tr>\n",
       "    <tr>\n",
       "      <th>797</th>\n",
       "      <td>What is the technical difference between Cheek...</td>\n",
       "      <td>What are the technical difference(s) between t...</td>\n",
       "      <td>COVID-19</td>\n",
       "      <td>2022-01-12 14:47:28</td>\n",
       "      <td>h110hawk</td>\n",
       "      <td>3.0</td>\n",
       "      <td>0.67</td>\n",
       "      <td>https://www.reddit.com/r/askscience/comments/s...</td>\n",
       "    </tr>\n",
       "    <tr>\n",
       "      <th>798</th>\n",
       "      <td>What starts the coagulation cascade during blo...</td>\n",
       "      <td>I understand that stasis of blood increases th...</td>\n",
       "      <td>Human Body</td>\n",
       "      <td>2022-01-12 14:20:26</td>\n",
       "      <td>joegoldbergg</td>\n",
       "      <td>5.0</td>\n",
       "      <td>0.78</td>\n",
       "      <td>https://www.reddit.com/r/askscience/comments/s...</td>\n",
       "    </tr>\n",
       "    <tr>\n",
       "      <th>799</th>\n",
       "      <td>Does the light/energy radiate from the sun at ...</td>\n",
       "      <td>NaN</td>\n",
       "      <td>Astronomy</td>\n",
       "      <td>2022-01-11 08:14:49</td>\n",
       "      <td>trinerr</td>\n",
       "      <td>693.0</td>\n",
       "      <td>0.93</td>\n",
       "      <td>https://www.reddit.com/r/askscience/comments/s...</td>\n",
       "    </tr>\n",
       "  </tbody>\n",
       "</table>\n",
       "<p>4205 rows × 8 columns</p>\n",
       "</div>"
      ],
      "text/plain": [
       "                                                 title  \\\n",
       "0    Post viral cough: why does it get worse after ...   \n",
       "1    Can an x-ray of an adult show chronic malnouri...   \n",
       "2             [META] Bots and AI tools on r/askscience   \n",
       "3       Can you predictably manipulate a magnetic gas?   \n",
       "4    Are there cells in humans (or other mammals) t...   \n",
       "..                                                 ...   \n",
       "795  I heard some electron microscopes use gallium....   \n",
       "796  is the spread of COVID typical for a respirato...   \n",
       "797  What is the technical difference between Cheek...   \n",
       "798  What starts the coagulation cascade during blo...   \n",
       "799  Does the light/energy radiate from the sun at ...   \n",
       "\n",
       "                                                  body          tag  \\\n",
       "0    Tl;dr: why is your cough during an upper respi...   Human Body   \n",
       "1    If a person was chronically undernourished thr...   Human Body   \n",
       "2     \\n\\nOver the past few days we have seen a sur...         META   \n",
       "3    Does there exist a gas that changes in respons...      Physics   \n",
       "4                                                  NaN     Medicine   \n",
       "..                                                 ...          ...   \n",
       "795                                                NaN  Engineering   \n",
       "796  i understand that there's no respiratory virus...     COVID-19   \n",
       "797  What are the technical difference(s) between t...     COVID-19   \n",
       "798  I understand that stasis of blood increases th...   Human Body   \n",
       "799                                                NaN    Astronomy   \n",
       "\n",
       "                datetime                author   score  upvote_ratio  \\\n",
       "0    2022-12-09 02:52:07    CarboniferousCreek  1343.0          0.93   \n",
       "1    2022-12-08 18:28:51  Foxs-In-A-Trenchcoat   426.0          0.91   \n",
       "2    2022-12-08 09:04:25   AskScienceModerator  2218.0          0.92   \n",
       "3    2022-12-08 20:01:53                hufsa7    48.0          0.83   \n",
       "4    2022-12-09 01:11:34                 Velym    14.0          0.89   \n",
       "..                   ...                   ...     ...           ...   \n",
       "795  2022-01-12 17:14:35           Emma_Dale20     6.0          0.70   \n",
       "796  2022-01-12 09:39:55              aggasalk    27.0          0.74   \n",
       "797  2022-01-12 14:47:28              h110hawk     3.0          0.67   \n",
       "798  2022-01-12 14:20:26          joegoldbergg     5.0          0.78   \n",
       "799  2022-01-11 08:14:49               trinerr   693.0          0.93   \n",
       "\n",
       "                                                   url  \n",
       "0    https://www.reddit.com/r/askscience/comments/z...  \n",
       "1    https://www.reddit.com/r/askscience/comments/z...  \n",
       "2    https://www.reddit.com/r/askscience/comments/z...  \n",
       "3    https://www.reddit.com/r/askscience/comments/z...  \n",
       "4    https://www.reddit.com/r/askscience/comments/z...  \n",
       "..                                                 ...  \n",
       "795  https://www.reddit.com/r/askscience/comments/s...  \n",
       "796  https://www.reddit.com/r/askscience/comments/s...  \n",
       "797  https://www.reddit.com/r/askscience/comments/s...  \n",
       "798  https://www.reddit.com/r/askscience/comments/s...  \n",
       "799  https://www.reddit.com/r/askscience/comments/s...  \n",
       "\n",
       "[4205 rows x 8 columns]"
      ]
     },
     "execution_count": 2,
     "metadata": {},
     "output_type": "execute_result"
    }
   ],
   "source": [
    "reddit_df = pd.read_csv('askscience_data.csv',index_col= 0)\n",
    "reddit_df"
   ]
  },
  {
   "cell_type": "code",
   "execution_count": 3,
   "id": "b20e1bb6",
   "metadata": {},
   "outputs": [
    {
     "data": {
      "text/plain": [
       "'2010-10-29 12:18:12'"
      ]
     },
     "execution_count": 3,
     "metadata": {},
     "output_type": "execute_result"
    }
   ],
   "source": [
    "reddit_df['datetime'].min()"
   ]
  },
  {
   "cell_type": "code",
   "execution_count": 4,
   "id": "eaed4c61",
   "metadata": {},
   "outputs": [
    {
     "data": {
      "text/plain": [
       "'2022-12-09 13:06:01'"
      ]
     },
     "execution_count": 4,
     "metadata": {},
     "output_type": "execute_result"
    }
   ],
   "source": [
    "reddit_df['datetime'].max()"
   ]
  },
  {
   "cell_type": "markdown",
   "id": "a795682f",
   "metadata": {},
   "source": [
    "The attribute `score` in Raddit refers to the net number of upvotes minus downvotes that a post or comment has received. The score represents the overall popularity or perceived quality of the post or comment within the Reddit community. The attribute `upvote_ratio` refers to # upvote/# all_votes. Both of them are the attributes of a successful post. A high level of score means and high upvote means a lot of people viewed this post and majority of them think it is helpful. Blow is the distributions of `log2(score+1)` and `upvote_ratio`, which are bimodel. And there's positive correlation between these two variables."
   ]
  },
  {
   "cell_type": "code",
   "execution_count": 5,
   "id": "d0826b5c",
   "metadata": {
    "scrolled": true
   },
   "outputs": [
    {
     "data": {
      "text/plain": [
       "Text(0.5, 1.0, 'Histogram of log2(score+1) across all the data')"
      ]
     },
     "execution_count": 5,
     "metadata": {},
     "output_type": "execute_result"
    },
    {
     "data": {
      "image/png": "[encoded data removed]",
      "text/plain": [
       "<Figure size 1000x500 with 2 Axes>"
      ]
     },
     "metadata": {},
     "output_type": "display_data"
    }
   ],
   "source": [
    "fig, axes = plt.subplots(1, 2, figsize=(10, 5))\n",
    "\n",
    "sns.histplot(reddit_df['upvote_ratio'], bins=50, kde=True,  edgecolor='black',ax=axes[0])  \n",
    "axes[0].set_xlabel('Upvote_ratio')  \n",
    "axes[0].set_ylabel('Frequency')  \n",
    "axes[0].set_title('Histogram of upvote_ratio across all the data') \n",
    "\n",
    "sns.histplot(np.log2(reddit_df['score']+1), bins=50, kde=True,  edgecolor='black',ax=axes[1])  \n",
    "axes[1].set_xlabel('Score')  \n",
    "axes[1].set_ylabel('Frequency')  \n",
    "axes[1].set_title('Histogram of log2(score+1) across all the data') \n",
    "\n"
   ]
  },
  {
   "cell_type": "code",
   "execution_count": 6,
   "id": "c267ad93",
   "metadata": {},
   "outputs": [
    {
     "data": {
      "text/plain": [
       "Text(0, 0.5, 'Score')"
      ]
     },
     "execution_count": 6,
     "metadata": {},
     "output_type": "execute_result"
    },
    {
     "data": {
      "image/png": "[encoded data removed]",
      "text/plain": [
       "<Figure size 640x480 with 1 Axes>"
      ]
     },
     "metadata": {},
     "output_type": "display_data"
    }
   ],
   "source": [
    "plt.scatter(reddit_df['upvote_ratio'], np.log2(reddit_df['score']+1), color='blue')  \n",
    "plt.title('Upvote ratio vs. log2(Score+1) in Raddit data')  \n",
    "plt.xlabel('Upvote Ratio')  \n",
    "plt.ylabel('Score') "
   ]
  },
  {
   "cell_type": "markdown",
   "id": "7264aff1",
   "metadata": {},
   "source": [
    "### 2. Build a machine learning model to predict a score for a Raddit post given the title and body\n",
    "\n",
    "**Summary of this session:**<br><br>\n",
    "The mse and mae in the test data are very high, which indicates the model is not a good fit. There are a few possible reasons:\n",
    "\n",
    "- The random forest is not a good model to estimate the relationship between Raddit score and title+body. We can use deep learning models using tensorflow or XGBoost model instead to fit the data.\n",
    "- Using title and body only cannot predict Raddit score acccurately. We can induce more variables, such as tag, hour,is_weekend,upvote_ratio, since they are associated with score."
   ]
  },
  {
   "cell_type": "code",
   "execution_count": 7,
   "id": "bf929084",
   "metadata": {},
   "outputs": [
    {
     "name": "stderr",
     "output_type": "stream",
     "text": [
      "[nltk_data] Downloading package punkt to /Users/jiongchen/nltk_data...\n",
      "[nltk_data]   Package punkt is already up-to-date!\n",
      "[nltk_data] Downloading package stopwords to\n",
      "[nltk_data]     /Users/jiongchen/nltk_data...\n",
      "[nltk_data]   Package stopwords is already up-to-date!\n",
      "[nltk_data] Downloading package wordnet to\n",
      "[nltk_data]     /Users/jiongchen/nltk_data...\n",
      "[nltk_data]   Package wordnet is already up-to-date!\n"
     ]
    }
   ],
   "source": [
    "from datetime import datetime\n",
    "\n",
    "from sklearn.model_selection import train_test_split\n",
    "from sklearn.feature_extraction.text import TfidfVectorizer\n",
    "from sklearn.pipeline import Pipeline\n",
    "from sklearn.linear_model import LinearRegression\n",
    "from sklearn.ensemble import RandomForestRegressor\n",
    "from sklearn.metrics import mean_absolute_error\n",
    "from sklearn.metrics import mean_squared_error\n",
    "from sklearn.compose import ColumnTransformer\n",
    "from sklearn.preprocessing import StandardScaler, OneHotEncoder\n",
    "from sklearn.model_selection import RepeatedKFold\n",
    "from sklearn.model_selection import cross_val_score\n",
    "\n",
    "import nltk\n",
    "from nltk.tokenize import word_tokenize\n",
    "from nltk.corpus import stopwords\n",
    "from nltk.stem import WordNetLemmatizer\n",
    "nltk.download('punkt')\n",
    "nltk.download('stopwords')\n",
    "nltk.download('wordnet')\n",
    "\n",
    "import re\n",
    "\n",
    "import tensorflow as tf\n",
    "from tensorflow.keras.models import Sequential\n",
    "from tensorflow.keras.layers import Dense, Embedding, LSTM, Flatten\n",
    "\n",
    "import xgboost as xgb"
   ]
  },
  {
   "cell_type": "markdown",
   "id": "085adf27",
   "metadata": {},
   "source": [
    "There are 1713 `bodies` with `NaN`, which is a large fraction of the data. Need to look into this."
   ]
  },
  {
   "cell_type": "code",
   "execution_count": 8,
   "id": "9b4ba581",
   "metadata": {},
   "outputs": [
    {
     "data": {
      "text/plain": [
       "1713"
      ]
     },
     "execution_count": 8,
     "metadata": {},
     "output_type": "execute_result"
    }
   ],
   "source": [
    "reddit_df['body'].isna().sum() #1713\n",
    "#reddit_df['title'].isna().sum() #0\n",
    "#reddit_df['score'].isna().sum() #0"
   ]
  },
  {
   "cell_type": "code",
   "execution_count": 9,
   "id": "fec4dcba",
   "metadata": {},
   "outputs": [
    {
     "data": {
      "text/plain": [
       "'Are there cells in humans (or other mammals) that are \"immune\" to cancer?'"
      ]
     },
     "execution_count": 9,
     "metadata": {},
     "output_type": "execute_result"
    }
   ],
   "source": [
    "reddit_df.loc[reddit_df['body'].isna(),'title'].iloc[0]"
   ]
  },
  {
   "cell_type": "markdown",
   "id": "1916a1db",
   "metadata": {},
   "source": [
    "I manually checked several of these posts with `NaN` in the `body` column. Looks like these posters didnot input anything in the `body`. So I impute the `NaN` with `No body text`."
   ]
  },
  {
   "cell_type": "code",
   "execution_count": 10,
   "id": "b3cafa17",
   "metadata": {},
   "outputs": [],
   "source": [
    "reddit_df['body'].fillna('No body text', inplace=True)"
   ]
  },
  {
   "cell_type": "markdown",
   "id": "9df8c17e",
   "metadata": {},
   "source": [
    "The code below prepross the text data in `bodies` and `titles`."
   ]
  },
  {
   "cell_type": "code",
   "execution_count": 11,
   "id": "f87fe837",
   "metadata": {},
   "outputs": [],
   "source": [
    "def preprocess_text(text):\n",
    "    # Tokenization\n",
    "    tokens = word_tokenize(text)\n",
    "    \n",
    "    # Remove stopwords and punctuation, and lemmatize tokens\n",
    "    stop_words = set(stopwords.words('english'))\n",
    "    lemmatizer = WordNetLemmatizer()\n",
    "    filtered_tokens = [lemmatizer.lemmatize(token.lower()) for token in tokens if token.isalpha() and token.lower() not in stop_words]\n",
    "    \n",
    "    return ' '.join(filtered_tokens)\n",
    "\n",
    "# Apply preprocessing to 'title' and 'body' columns\n",
    "reddit_df['clean_title'] = reddit_df['title'].apply(preprocess_text)\n",
    "reddit_df['clean_body'] = reddit_df['body'].apply(preprocess_text)"
   ]
  },
  {
   "cell_type": "code",
   "execution_count": 12,
   "id": "88854114",
   "metadata": {},
   "outputs": [],
   "source": [
    "from datetime import datetime\n",
    "reddit_df['datetime_obj'] = pd.to_datetime(reddit_df['datetime'], format='%Y-%m-%d %H:%M:%S')\n",
    "reddit_df['hour'] = reddit_df['datetime_obj'].dt.hour\n",
    "reddit_df['weekday'] = reddit_df['datetime_obj'].dt.weekday\n",
    "reddit_df['is_weekend'] = reddit_df['weekday'].isin([5, 6]) "
   ]
  },
  {
   "cell_type": "code",
   "execution_count": 13,
   "id": "4896b12b",
   "metadata": {},
   "outputs": [],
   "source": [
    "#reddit_df['tag'].value_counts()"
   ]
  },
  {
   "cell_type": "markdown",
   "id": "fad59c07",
   "metadata": {},
   "source": [
    "I included `clean_title`, `clean_body` in the training data. In the future, I can also include `tag`, `hour`,`is_weekend`,`upvote_ratio` in the training data as well, since they are associated with `score`."
   ]
  },
  {
   "cell_type": "code",
   "execution_count": 14,
   "id": "aa1cb3d8",
   "metadata": {},
   "outputs": [],
   "source": [
    "X = reddit_df[['clean_title', 'clean_body']]\n",
    "y = reddit_df['score']\n",
    "\n",
    "\n",
    "X_train, X_test, y_train, y_test = train_test_split(X, y, test_size=0.3, random_state=40)\n"
   ]
  },
  {
   "cell_type": "code",
   "execution_count": 15,
   "id": "2d08dd64",
   "metadata": {},
   "outputs": [
    {
     "data": {
      "text/html": [
       "<style>#sk-container-id-1 {color: black;}#sk-container-id-1 pre{padding: 0;}#sk-container-id-1 div.sk-toggleable {background-color: white;}#sk-container-id-1 label.sk-toggleable__label {cursor: pointer;display: block;width: 100%;margin-bottom: 0;padding: 0.3em;box-sizing: border-box;text-align: center;}#sk-container-id-1 label.sk-toggleable__label-arrow:before {content: \"▸\";float: left;margin-right: 0.25em;color: #696969;}#sk-container-id-1 label.sk-toggleable__label-arrow:hover:before {color: black;}#sk-container-id-1 div.sk-estimator:hover label.sk-toggleable__label-arrow:before {color: black;}#sk-container-id-1 div.sk-toggleable__content {max-height: 0;max-width: 0;overflow: hidden;text-align: left;background-color: #f0f8ff;}#sk-container-id-1 div.sk-toggleable__content pre {margin: 0.2em;color: black;border-radius: 0.25em;background-color: #f0f8ff;}#sk-container-id-1 input.sk-toggleable__control:checked~div.sk-toggleable__content {max-height: 200px;max-width: 100%;overflow: auto;}#sk-container-id-1 input.sk-toggleable__control:checked~label.sk-toggleable__label-arrow:before {content: \"▾\";}#sk-container-id-1 div.sk-estimator input.sk-toggleable__control:checked~label.sk-toggleable__label {background-color: #d4ebff;}#sk-container-id-1 div.sk-label input.sk-toggleable__control:checked~label.sk-toggleable__label {background-color: #d4ebff;}#sk-container-id-1 input.sk-hidden--visually {border: 0;clip: rect(1px 1px 1px 1px);clip: rect(1px, 1px, 1px, 1px);height: 1px;margin: -1px;overflow: hidden;padding: 0;position: absolute;width: 1px;}#sk-container-id-1 div.sk-estimator {font-family: monospace;background-color: #f0f8ff;border: 1px dotted black;border-radius: 0.25em;box-sizing: border-box;margin-bottom: 0.5em;}#sk-container-id-1 div.sk-estimator:hover {background-color: #d4ebff;}#sk-container-id-1 div.sk-parallel-item::after {content: \"\";width: 100%;border-bottom: 1px solid gray;flex-grow: 1;}#sk-container-id-1 div.sk-label:hover label.sk-toggleable__label {background-color: #d4ebff;}#sk-container-id-1 div.sk-serial::before {content: \"\";position: absolute;border-left: 1px solid gray;box-sizing: border-box;top: 0;bottom: 0;left: 50%;z-index: 0;}#sk-container-id-1 div.sk-serial {display: flex;flex-direction: column;align-items: center;background-color: white;padding-right: 0.2em;padding-left: 0.2em;position: relative;}#sk-container-id-1 div.sk-item {position: relative;z-index: 1;}#sk-container-id-1 div.sk-parallel {display: flex;align-items: stretch;justify-content: center;background-color: white;position: relative;}#sk-container-id-1 div.sk-item::before, #sk-container-id-1 div.sk-parallel-item::before {content: \"\";position: absolute;border-left: 1px solid gray;box-sizing: border-box;top: 0;bottom: 0;left: 50%;z-index: -1;}#sk-container-id-1 div.sk-parallel-item {display: flex;flex-direction: column;z-index: 1;position: relative;background-color: white;}#sk-container-id-1 div.sk-parallel-item:first-child::after {align-self: flex-end;width: 50%;}#sk-container-id-1 div.sk-parallel-item:last-child::after {align-self: flex-start;width: 50%;}#sk-container-id-1 div.sk-parallel-item:only-child::after {width: 0;}#sk-container-id-1 div.sk-dashed-wrapped {border: 1px dashed gray;margin: 0 0.4em 0.5em 0.4em;box-sizing: border-box;padding-bottom: 0.4em;background-color: white;}#sk-container-id-1 div.sk-label label {font-family: monospace;font-weight: bold;display: inline-block;line-height: 1.2em;}#sk-container-id-1 div.sk-label-container {text-align: center;}#sk-container-id-1 div.sk-container {/* jupyter's `normalize.less` sets `[hidden] { display: none; }` but bootstrap.min.css set `[hidden] { display: none !important; }` so we also need the `!important` here to be able to override the default hidden behavior on the sphinx rendered scikit-learn.org. See: https://github.com/scikit-learn/scikit-learn/issues/21755 */display: inline-block !important;position: relative;}#sk-container-id-1 div.sk-text-repr-fallback {display: none;}</style><div id=\"sk-container-id-1\" class=\"sk-top-container\"><div class=\"sk-text-repr-fallback\"><pre>Pipeline(steps=[(&#x27;tfidf&#x27;, TfidfVectorizer()),\n",
       "                (&#x27;regressor&#x27;, RandomForestRegressor())])</pre><b>In a Jupyter environment, please rerun this cell to show the HTML representation or trust the notebook. <br />On GitHub, the HTML representation is unable to render, please try loading this page with nbviewer.org.</b></div><div class=\"sk-container\" hidden><div class=\"sk-item sk-dashed-wrapped\"><div class=\"sk-label-container\"><div class=\"sk-label sk-toggleable\"><input class=\"sk-toggleable__control sk-hidden--visually\" id=\"sk-estimator-id-1\" type=\"checkbox\" ><label for=\"sk-estimator-id-1\" class=\"sk-toggleable__label sk-toggleable__label-arrow\">Pipeline</label><div class=\"sk-toggleable__content\"><pre>Pipeline(steps=[(&#x27;tfidf&#x27;, TfidfVectorizer()),\n",
       "                (&#x27;regressor&#x27;, RandomForestRegressor())])</pre></div></div></div><div class=\"sk-serial\"><div class=\"sk-item\"><div class=\"sk-estimator sk-toggleable\"><input class=\"sk-toggleable__control sk-hidden--visually\" id=\"sk-estimator-id-2\" type=\"checkbox\" ><label for=\"sk-estimator-id-2\" class=\"sk-toggleable__label sk-toggleable__label-arrow\">TfidfVectorizer</label><div class=\"sk-toggleable__content\"><pre>TfidfVectorizer()</pre></div></div></div><div class=\"sk-item\"><div class=\"sk-estimator sk-toggleable\"><input class=\"sk-toggleable__control sk-hidden--visually\" id=\"sk-estimator-id-3\" type=\"checkbox\" ><label for=\"sk-estimator-id-3\" class=\"sk-toggleable__label sk-toggleable__label-arrow\">RandomForestRegressor</label><div class=\"sk-toggleable__content\"><pre>RandomForestRegressor()</pre></div></div></div></div></div></div></div>"
      ],
      "text/plain": [
       "Pipeline(steps=[('tfidf', TfidfVectorizer()),\n",
       "                ('regressor', RandomForestRegressor())])"
      ]
     },
     "execution_count": 15,
     "metadata": {},
     "output_type": "execute_result"
    }
   ],
   "source": [
    "text_pipeline = Pipeline([\n",
    "    ('tfidf', TfidfVectorizer()),  \n",
    "    ('regressor', RandomForestRegressor())  \n",
    "])\n",
    "\n",
    "\n",
    "text_pipeline.fit(X_train['clean_title'] + ' ' + X_train['clean_body'] , y_train)"
   ]
  },
  {
   "cell_type": "code",
   "execution_count": null,
   "id": "dc23ea87",
   "metadata": {},
   "outputs": [],
   "source": []
  },
  {
   "cell_type": "markdown",
   "id": "7e917770",
   "metadata": {},
   "source": [
    "The mse and mae in the test data are very high, which indicates the model is not a good fit. There are a few possible reasons:\n",
    "- the random forest is not a good model to estimate the relationship between Raddit score and title+body. We can use deep learning models or GBM model instead to fit the data.\n",
    "- Using title and body only cannot predict Raddit score acccurately. We can induce more variables, such as `tag`, `hour`,`is_weekend`,`upvote_ratio`, since they are associated with `score`."
   ]
  },
  {
   "cell_type": "code",
   "execution_count": 16,
   "id": "a16e46f2",
   "metadata": {},
   "outputs": [
    {
     "name": "stdout",
     "output_type": "stream",
     "text": [
      "Mean Absolute Error: 3030.6011983749654\n"
     ]
    }
   ],
   "source": [
    "y_pred = text_pipeline.predict(X_test['clean_title'] + ' ' + X_test['clean_body'])\n",
    "\n",
    "# Calculate evaluation metrics (e.g., mean squared error)\n",
    "from sklearn.metrics import mean_squared_error\n",
    "mae = mean_absolute_error(y_test, y_pred)\n",
    "print(f'Mean Absolute Error: {mae}')"
   ]
  }
 ],
 "metadata": {
  "kernelspec": {
   "display_name": "Python 3 (ipykernel)",
   "language": "python",
   "name": "python3"
  },
  "language_info": {
   "codemirror_mode": {
    "name": "ipython",
    "version": 3
   },
   "file_extension": ".py",
   "mimetype": "text/x-python",
   "name": "python",
   "nbconvert_exporter": "python",
   "pygments_lexer": "ipython3",
   "version": "3.11.5"
  }
 },
 "nbformat": 4,
 "nbformat_minor": 5
}
